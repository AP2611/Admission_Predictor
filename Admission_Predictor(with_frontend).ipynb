{
  "nbformat": 4,
  "nbformat_minor": 0,
  "metadata": {
    "colab": {
      "provenance": []
    },
    "kernelspec": {
      "name": "python3",
      "display_name": "Python 3"
    },
    "language_info": {
      "name": "python"
    }
  },
  "cells": [
    {
      "cell_type": "code",
      "execution_count": 3,
      "metadata": {
        "colab": {
          "base_uri": "https://localhost:8080/",
          "height": 648
        },
        "id": "DHEtXEfQLVMg",
        "outputId": "f3df5305-ac51-4094-b3b2-53416b0239f0"
      },
      "outputs": [
        {
          "output_type": "stream",
          "name": "stdout",
          "text": [
            "It looks like you are running Gradio on a hosted Jupyter notebook, which requires `share=True`. Automatically setting `share=True` (you can turn this off by setting `share=False` in `launch()` explicitly).\n",
            "\n",
            "Colab notebook detected. To show errors in colab notebook, set debug=True in launch()\n",
            "* Running on public URL: https://bce8cefa56b6c8846c.gradio.live\n",
            "\n",
            "This share link expires in 1 week. For free permanent hosting and GPU upgrades, run `gradio deploy` from the terminal in the working directory to deploy to Hugging Face Spaces (https://huggingface.co/spaces)\n"
          ]
        },
        {
          "output_type": "display_data",
          "data": {
            "text/plain": [
              "<IPython.core.display.HTML object>"
            ],
            "text/html": [
              "<div><iframe src=\"https://bce8cefa56b6c8846c.gradio.live\" width=\"100%\" height=\"500\" allow=\"autoplay; camera; microphone; clipboard-read; clipboard-write;\" frameborder=\"0\" allowfullscreen></iframe></div>"
            ]
          },
          "metadata": {}
        },
        {
          "output_type": "execute_result",
          "data": {
            "text/plain": []
          },
          "metadata": {},
          "execution_count": 3
        }
      ],
      "source": [
        "\n",
        "!pip install -q gradio\n",
        "\n",
        "\n",
        "import gradio as gr\n",
        "import pandas as pd\n",
        "from sklearn.tree import DecisionTreeClassifier\n",
        "from sklearn.model_selection import train_test_split\n",
        "\n",
        "\n",
        "df = pd.read_csv(\"/content/Admission_Predict.csv\")  # Update path if needed\n",
        "\n",
        "\n",
        "df.columns = [col.strip() for col in df.columns]\n",
        "df.rename(columns={\"Chance of Admit\": \"Chance_of_Admit\"}, inplace=True)\n",
        "df['Admitted'] = df['Chance_of_Admit'].apply(lambda x: 1 if x >= 0.75 else 0)\n",
        "df.drop(columns=[\"Chance_of_Admit\", \"Serial No.\"], inplace=True)\n",
        "\n",
        "\n",
        "X = df.drop(columns=['Admitted'])\n",
        "Y = df['Admitted']\n",
        "X_train, X_test, Y_train, Y_test = train_test_split(X, Y, test_size=0.2, random_state=42)\n",
        "\n",
        "\n",
        "clf = DecisionTreeClassifier(random_state=42)\n",
        "clf.fit(X_train, Y_train)\n",
        "\n",
        "\n",
        "def predict_admission(gre, toefl, rating, sop, lor, cgpa, research):\n",
        "    input_data = [[gre, toefl, rating, sop, lor, cgpa, research]]\n",
        "    prediction = clf.predict(input_data)[0]\n",
        "    return \"🎓 Admitted ✅\" if prediction == 1 else \"❌ Not Admitted\"\n",
        "\n",
        "iface = gr.Interface(\n",
        "    fn=predict_admission,\n",
        "    inputs=[\n",
        "        gr.Slider(260, 340, step=1, label=\"GRE Score\"),\n",
        "        gr.Slider(90, 120, step=1, label=\"TOEFL Score\"),\n",
        "        gr.Slider(1, 5, step=1, label=\"University Rating\"),\n",
        "        gr.Slider(1.0, 5.0, step=0.5, label=\"SOP Strength\"),\n",
        "        gr.Slider(1.0, 5.0, step=0.5, label=\"LOR Strength\"),\n",
        "        gr.Slider(6.0, 10.0, step=0.01, label=\"CGPA\"),\n",
        "        gr.Radio([0, 1], label=\"Research Experience (0=No, 1=Yes)\")\n",
        "    ],\n",
        "    outputs=\"text\",\n",
        "    title=\"🎓 Admission Predictor using Decision Tree\",\n",
        "    description=\"Enter student details to predict if they'll get admitted!\"\n",
        ")\n",
        "\n",
        "\n",
        "iface.launch()\n"
      ]
    },
    {
      "cell_type": "code",
      "source": [],
      "metadata": {
        "id": "_r9u2zsGLZq2"
      },
      "execution_count": null,
      "outputs": []
    }
  ]
}